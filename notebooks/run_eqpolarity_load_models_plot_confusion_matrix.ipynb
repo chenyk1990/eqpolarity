{
 "cells": [
  {
   "cell_type": "markdown",
   "id": "8e38761d-a74d-4be8-a02a-50e1e2b55ee4",
   "metadata": {},
   "source": [
    "This is a DEMO for loading a pre-trained eqpolarity models from both California and Texas\n",
    "\n",
    "Make sure eqpolarity is installed following the instructions on the main website\n",
    "https://github.com/chenyk1990/eqpolarity"
   ]
  },
  {
   "cell_type": "code",
   "execution_count": 1,
   "id": "af177c8e",
   "metadata": {},
   "outputs": [
    {
     "ename": "FileNotFoundError",
     "evalue": "[Errno 2] No such file or directory: '../data/TexasData/polall_Texas.npy'",
     "output_type": "error",
     "traceback": [
      "\u001b[0;31m---------------------------------------------------------------------------\u001b[0m",
      "\u001b[0;31mFileNotFoundError\u001b[0m                         Traceback (most recent call last)",
      "Cell \u001b[0;32mIn[1], line 9\u001b[0m\n\u001b[1;32m      5\u001b[0m \u001b[38;5;28;01mimport\u001b[39;00m \u001b[38;5;21;01mnumpy\u001b[39;00m \u001b[38;5;28;01mas\u001b[39;00m \u001b[38;5;21;01mnp\u001b[39;00m\n\u001b[1;32m      7\u001b[0m \u001b[38;5;66;03m# datall_Texas.npy can also be downloaded from https://mega.nz/file/chxx1Z5Y#zXNRKT5aeNy7AGREKEUIq71TREK8hcUyXA1ZOkQ9DlM\u001b[39;00m\n\u001b[1;32m      8\u001b[0m \u001b[38;5;66;03m# datall = np.load('../data/TexasData/datall_Texas.npy') \u001b[39;00m\n\u001b[0;32m----> 9\u001b[0m polall \u001b[38;5;241m=\u001b[39m np\u001b[38;5;241m.\u001b[39mload(\u001b[38;5;124m'\u001b[39m\u001b[38;5;124m../data/TexasData/polall_Texas.npy\u001b[39m\u001b[38;5;124m'\u001b[39m)\n\u001b[1;32m     11\u001b[0m data\u001b[38;5;241m=\u001b[39m[]\n\u001b[1;32m     12\u001b[0m \u001b[38;5;28;01mfor\u001b[39;00m ii \u001b[38;5;129;01min\u001b[39;00m \u001b[38;5;28mrange\u001b[39m(\u001b[38;5;241m6\u001b[39m):\n",
      "File \u001b[0;32m~/anaconda3/envs/eqp/lib/python3.11/site-packages/numpy/lib/npyio.py:427\u001b[0m, in \u001b[0;36mload\u001b[0;34m(file, mmap_mode, allow_pickle, fix_imports, encoding, max_header_size)\u001b[0m\n\u001b[1;32m    425\u001b[0m     own_fid \u001b[38;5;241m=\u001b[39m \u001b[38;5;28;01mFalse\u001b[39;00m\n\u001b[1;32m    426\u001b[0m \u001b[38;5;28;01melse\u001b[39;00m:\n\u001b[0;32m--> 427\u001b[0m     fid \u001b[38;5;241m=\u001b[39m stack\u001b[38;5;241m.\u001b[39menter_context(\u001b[38;5;28mopen\u001b[39m(os_fspath(file), \u001b[38;5;124m\"\u001b[39m\u001b[38;5;124mrb\u001b[39m\u001b[38;5;124m\"\u001b[39m))\n\u001b[1;32m    428\u001b[0m     own_fid \u001b[38;5;241m=\u001b[39m \u001b[38;5;28;01mTrue\u001b[39;00m\n\u001b[1;32m    430\u001b[0m \u001b[38;5;66;03m# Code to distinguish from NumPy binary files and pickles.\u001b[39;00m\n",
      "\u001b[0;31mFileNotFoundError\u001b[0m: [Errno 2] No such file or directory: '../data/TexasData/polall_Texas.npy'"
     ]
    }
   ],
   "source": [
    "## Import data\n",
    "#polall is polarity label from Texas (Size: 22980x1)\n",
    "#datall is 600-sample waveform data (Z-component) from Texas (Size: 22980 x 600 x 1); the waveform is centered by P-arrival (manual from Texas analysts) sample\n",
    "\n",
    "import numpy as np\n",
    "\n",
    "# datall_Texas.npy can also be downloaded from https://mega.nz/file/chxx1Z5Y#zXNRKT5aeNy7AGREKEUIq71TREK8hcUyXA1ZOkQ9DlM\n",
    "# datall = np.load('../data/TexasData/datall_Texas.npy') \n",
    "polall = np.load('../data/TexasData/polall_Texas.npy')\n",
    "\n",
    "data=[]\n",
    "for ii in range(6):\n",
    "    data.append(np.load('../data/TexasData/datall_Texas%d.npy'%(ii+1)))\n",
    "datall=np.concatenate(data,axis=0)\n"
   ]
  },
  {
   "cell_type": "code",
   "execution_count": null,
   "id": "b4ddace3-b2a0-4c65-a6ae-1bb44a94c879",
   "metadata": {},
   "outputs": [],
   "source": [
    "## Load EQpolarity model\n",
    "from eqpolarity.utils import construct_model\n",
    "input_shape = (600,1)\n",
    "model=construct_model(input_shape)\n",
    "model.summary()"
   ]
  },
  {
   "cell_type": "code",
   "execution_count": null,
   "id": "b44e5b88",
   "metadata": {},
   "outputs": [],
   "source": [
    "## Load pre-trained model for prediction\n",
    "model.load_weights('../models/best_weigths_Binary_SCSN_Best.h5')\n",
    "out = model.predict(datall,batch_size=1024, verbose=1)"
   ]
  },
  {
   "cell_type": "code",
   "execution_count": null,
   "id": "9ddc39dd",
   "metadata": {},
   "outputs": [],
   "source": [
    "## Applying threshold\n",
    "#outtest = np.argmax(out,axis=-1)\n",
    "thre = 0.5\n",
    "outtest = out\n",
    "outtest[outtest<thre]=0\n",
    "outtest[outtest>=thre]=1\n",
    "labtest = polall\n",
    "\n",
    "## Calculating accuracy, precision, recall, and F1-score\n",
    "from sklearn.metrics import accuracy_score, precision_score, recall_score, f1_score\n",
    "\n",
    "accuracy_score(labtest,outtest),precision_score(labtest,outtest, average='micro'),recall_score(labtest,outtest, average='micro'),f1_score(labtest,outtest, average='micro')"
   ]
  },
  {
   "cell_type": "code",
   "execution_count": null,
   "id": "d953096b",
   "metadata": {},
   "outputs": [],
   "source": [
    "accuracy_score(labtest,outtest),precision_score(labtest,outtest, average=None),recall_score(labtest,outtest, average=None),f1_score(labtest,outtest, average=None)"
   ]
  },
  {
   "cell_type": "code",
   "execution_count": null,
   "id": "d9c3c81c",
   "metadata": {},
   "outputs": [],
   "source": [
    "#Generate the confusion matrix\n",
    "from sklearn.metrics import confusion_matrix\n",
    "\n",
    "cf_matrix = confusion_matrix(labtest, outtest)\n",
    "print(cf_matrix)"
   ]
  },
  {
   "cell_type": "code",
   "execution_count": null,
   "id": "ad0c44a6-3143-4aff-bf90-a6ed9b0cdf0b",
   "metadata": {},
   "outputs": [],
   "source": [
    "## plotting confusion matrix\n",
    "from eqpolarity import plot_confusionmatrix\n",
    "plot_confusionmatrix(cf=cf_matrix,categories=['Up','Down'],figname='Conf_Matrix_before_transferlearning.png',ifshow=True)"
   ]
  },
  {
   "cell_type": "code",
   "execution_count": null,
   "id": "031d0d17",
   "metadata": {},
   "outputs": [],
   "source": [
    "model.load_weights(\"../models/best_weigths_Binary_Texas_Transfer10.h5\")\n",
    "out = model.predict(datall,batch_size=1024, verbose=1)"
   ]
  },
  {
   "cell_type": "code",
   "execution_count": null,
   "id": "2ddeb3ad",
   "metadata": {},
   "outputs": [],
   "source": [
    "#outtest = np.argmax(out,axis=-1)\n",
    "thre = 0.5\n",
    "outtest = out\n",
    "outtest[outtest<thre]=0\n",
    "outtest[outtest>=thre]=1\n",
    "labtest = polall"
   ]
  },
  {
   "cell_type": "code",
   "execution_count": null,
   "id": "d02cce3e-7bac-4f93-8729-7fac0058097d",
   "metadata": {},
   "outputs": [],
   "source": [
    "## plotting different types of accuracy\n",
    "accuracy_score(labtest,outtest),precision_score(labtest,outtest, average='micro'),recall_score(labtest,outtest, average='micro'),f1_score(labtest,outtest, average='micro')"
   ]
  },
  {
   "cell_type": "code",
   "execution_count": null,
   "id": "645086a1",
   "metadata": {
    "scrolled": true
   },
   "outputs": [],
   "source": [
    "accuracy_score(labtest,outtest),precision_score(labtest,outtest, average=None),recall_score(labtest,outtest, average=None),f1_score(labtest,outtest, average=None)"
   ]
  },
  {
   "cell_type": "code",
   "execution_count": null,
   "id": "201a9cad",
   "metadata": {},
   "outputs": [],
   "source": [
    "accuracy_score(labtest,outtest),precision_score(labtest,outtest, average='macro'),recall_score(labtest,outtest, average='macro'),f1_score(labtest,outtest, average='macro')"
   ]
  },
  {
   "cell_type": "code",
   "execution_count": null,
   "id": "81840271",
   "metadata": {},
   "outputs": [],
   "source": [
    "cf_matrix = confusion_matrix(labtest, outtest)\n",
    "print(cf_matrix)\n",
    "\n"
   ]
  },
  {
   "cell_type": "code",
   "execution_count": null,
   "id": "3c12bf97-1042-465c-890f-cb002ac53cba",
   "metadata": {
    "scrolled": true
   },
   "outputs": [],
   "source": [
    "## plot confusion matrix\n",
    "from eqpolarity import plot_confusionmatrix\n",
    "plot_confusionmatrix(cf=cf_matrix,categories=['Up','Down'],figname='Conf_Matrix_after_transferlearning.png',ifshow=True)"
   ]
  }
 ],
 "metadata": {
  "kernelspec": {
   "display_name": "Python 3 (ipykernel)",
   "language": "python",
   "name": "python3"
  },
  "language_info": {
   "codemirror_mode": {
    "name": "ipython",
    "version": 3
   },
   "file_extension": ".py",
   "mimetype": "text/x-python",
   "name": "python",
   "nbconvert_exporter": "python",
   "pygments_lexer": "ipython3",
   "version": "3.11.7"
  }
 },
 "nbformat": 4,
 "nbformat_minor": 5
}
